{
  "nbformat": 4,
  "nbformat_minor": 0,
  "metadata": {
    "colab": {
      "provenance": []
    },
    "kernelspec": {
      "name": "python3",
      "display_name": "Python 3"
    },
    "language_info": {
      "name": "python"
    }
  },
  "cells": [
    {
      "cell_type": "markdown",
      "source": [
        "**Q1 What are data structures, and why are they important?**\n",
        "\n",
        "  - Data structures are different pre defined ways to read a data in python like Lists,Tuples,Sets,Disctionary.\n",
        "  - The importance of data structure is it provides an effecient way to run code, makes it easier and readable. and provides a structure to the codes"
      ],
      "metadata": {
        "id": "Mv4V0VDBoLgz"
      }
    },
    {
      "cell_type": "markdown",
      "source": [
        "**Q2 Explain the difference between mutable and immutable data types with examples**\n",
        "  - Mutable data sets are sets for which the value of that data set can be change after it has been created.\n",
        "  - immutable data sets are where the value of the data set cannot be changed."
      ],
      "metadata": {
        "id": "7oi_G6LXpS8f"
      }
    },
    {
      "cell_type": "markdown",
      "source": [
        "**Q3 What are the main differences between lists and tuples in Python3**\n",
        "  - Tuples are immutable data sets which cannot be changed and is used for data which is fixed. Tuples are stored in () paranthesis\n",
        "  - Lists are mutable data sets which can be changed and is used for flexible data sets. Lists is stored in [] square brackets.\n"
      ],
      "metadata": {
        "id": "i4L4QEw3qPWI"
      }
    },
    {
      "cell_type": "markdown",
      "source": [
        "**Q4  Describe how dictionaries store data**\n",
        "  - Dictionaries are stored in form of Keys and values data. where key acts as a sort of header and values as the result of that header or label.\n",
        "  - Example :- Student = {Name: \"Rahul\",Classes: \"Data Structure\"}"
      ],
      "metadata": {
        "id": "i1qRs5V1q7qw"
      }
    },
    {
      "cell_type": "markdown",
      "source": [
        "**Q5 Why might you use a set instead of a list in Python?**\n",
        "\n",
        "  -Sets in python automatically store only the unique values and removes the duplicate values. Hence if you have to store a data which is unique in nature the idea is to store it in a set instead of lists"
      ],
      "metadata": {
        "id": "NxZ_hhVlrsyE"
      }
    },
    {
      "cell_type": "markdown",
      "source": [
        "**Q6 What is a string in Python, and how is it different from a list ?**\n",
        "\n",
        "  - A string is a sequence of characters stored in quotes like \"PW Skills\"\n",
        "  - whereas, list is a collection of items stored in []  like, lst=[\"Orange\",\"Banana\",\"Apple\"]"
      ],
      "metadata": {
        "id": "6YfR20j-sSst"
      }
    },
    {
      "cell_type": "markdown",
      "source": [
        "**Q7 How do tuples ensure data integrity in Python?**\n",
        "\n",
        "  - Tuples are immutable in nature which ensures the data integrity in python.\n",
        "  - as we can store a data which is fixed in nature in tuples so that it can't be changed,added or deleted."
      ],
      "metadata": {
        "id": "wWiFKu4-tTHi"
      }
    },
    {
      "cell_type": "markdown",
      "source": [
        "**Q8 What is a hash table, and how does it relate to dictionaries in Python?**\n",
        "  \n",
        "  - A hash table is a data structure that stores data in key-value pairs using a hash function.It converts the key into a number (called a hash) to decide where to store the value.It's very fast for searching, inserting, and deleting values.\n",
        "  - In Python a dictionary is built in implementation of a hash funtion as it also store data in keys and values."
      ],
      "metadata": {
        "id": "o8xvjoG5uBeX"
      }
    },
    {
      "cell_type": "markdown",
      "source": [
        "**Q9  Can lists contain different data types in Python?**\n",
        "  - Yes list can store any sort of data types as the heterogeneous in nature which means they can store data in any data type like Int,Float,String,Special characters, nested list, dictionary."
      ],
      "metadata": {
        "id": "hfweUoLCwSPW"
      }
    },
    {
      "cell_type": "markdown",
      "source": [
        "**Q10 Explain why strings are immutable in Python?**\n",
        "\n",
        "  - the nature of string in python is immutable as changing the value of a string will change its use case. so instead of modifying the string value. pythoon creates a new one."
      ],
      "metadata": {
        "id": "C37SXRrFwSEa"
      }
    },
    {
      "cell_type": "markdown",
      "source": [
        "**Q11 What advantages do dictionaries offer over lists for certain tasks?**\n",
        "\n",
        "  - As dictionary stores data in keys and values format it becomes easier to pull the data for look ups.\n",
        "  - it helps in the clear differentiation of data as keys works as label so storing data in that format provides it an easier understandabitlity"
      ],
      "metadata": {
        "id": "SEE4dzoqxqsU"
      }
    },
    {
      "cell_type": "markdown",
      "source": [
        "**Q12  Describe a scenario where using a tuple would be preferable over a list?**\n",
        "  - Since tuples are immutable in nature. the use cases of tuple over list becomes very specific.\n",
        "  - also it provides a clear reprsentation to a programmer that the data store in this variable is fixed.\n",
        "  - Any scenario where the data needs to be remain unchaged tuples are always preferable. for example storing Map co-ordinates, Customer ID, date of births."
      ],
      "metadata": {
        "id": "b72NPi4mywU1"
      }
    },
    {
      "cell_type": "markdown",
      "source": [
        "**Q13 How do sets handle duplicate values in Python?**\n",
        "  - In python the key feature of a set is that it only stores the unique values hence removing the duplicate values."
      ],
      "metadata": {
        "id": "0TlDUFwkzrbc"
      }
    },
    {
      "cell_type": "markdown",
      "source": [
        "**Q14 How does the “in” keyword work differently for lists and dictionaries3**\n",
        "\n",
        "  - In Lists the \"in\" keyword seaches for the value in the stored list. for eg a=[\"apple\",\"banana\"] \"apple\" in a\n",
        "  - In Dictionary \"in\" check if the key exists for e.g class={\"Name\":\"Ram\",\"Age\":22} print(\"name\" in class)"
      ],
      "metadata": {
        "id": "8YZgslzP0Gxu"
      }
    },
    {
      "cell_type": "markdown",
      "source": [
        "**Q15 Can you modify the elements of a tuple? Explain why or why not?**\n",
        "  - No, you can’t modify elements of a tuple because tuples are immutable in Python. That means once a tuple is created, its contents are locked in and can't be changed, added to, or removed."
      ],
      "metadata": {
        "id": "FIxRkAoXJq24"
      }
    },
    {
      "cell_type": "markdown",
      "source": [
        "**Q16 What is a nested dictionary, and give an example of its use case3**\n",
        "  - Nested dictionary is where a dictionary is stored inside a dictionary.this is usually done to store heirerchal or complex data\n",
        "  - its use case is storing records like student data, marks in subjects, employee infomation\n",
        "  eg employees = {\n",
        "    \"emp1\": {\"name\": \"Ram\", \"department\": \"HR\", \"age\": 25},\n",
        "    \"emp2\": {\"name\": \"Shyam\", \"department\": \"IT\", \"age\": 30}\n",
        "}"
      ],
      "metadata": {
        "id": "GhoZtn5ZKaJW"
      }
    },
    {
      "cell_type": "markdown",
      "source": [
        "**Q17 Describe the time complexity of accessing elements in a dictionary?**\n",
        "  - Time complexity tells us how fast or slow an operation is depending on the size of the data.\n",
        "  - This means you can quickly get a value using its key, no matter how big the dictionary"
      ],
      "metadata": {
        "id": "6dkVFoymPyWI"
      }
    },
    {
      "cell_type": "markdown",
      "source": [
        "**Q18 In what situations are lists preferred over dictionaries?**\n",
        "  - Use a list when you just need to store values in order, like a sequence of numbers or names. They are ideal if you dont need labels and you want to allow duplicates. Lists also keep items in the order you add them."
      ],
      "metadata": {
        "id": "Weei1yC7Qdct"
      }
    },
    {
      "cell_type": "markdown",
      "source": [
        "**Q19 Why are dictionaries considered unordered, and how does that affect data retrieval?**\n",
        "  - Dictionaries are considered unordered because they did not preserve the order in which items were added. This meant that when you retrieved or printed items, their sequence could appear random."
      ],
      "metadata": {
        "id": "GQiIt5NUQ1lY"
      }
    },
    {
      "cell_type": "markdown",
      "source": [
        "**Q20 Explain the difference between a list and a dictionary in terms of data retrieval.**\n",
        "  - The main difference between list and dictionaries data retreival is how you access the data.\n",
        "  - in list the data is extracted based on indexes the index starts from 0\n",
        "  - whereas in dictionaries the data is store in form of keys and values and their extraction is done by calling out the Keys."
      ],
      "metadata": {
        "id": "lg4E4qvVRJnN"
      }
    },
    {
      "cell_type": "markdown",
      "source": [
        "### **Practical Questions**"
      ],
      "metadata": {
        "id": "C_3OvFh_RwIW"
      }
    },
    {
      "cell_type": "code",
      "source": [
        "#Q1 Write a code to create a string with your name and print it?\n",
        "name=\"Rahul\"\n",
        "print(name)"
      ],
      "metadata": {
        "colab": {
          "base_uri": "https://localhost:8080/"
        },
        "id": "6ed8RNfrRvtO",
        "outputId": "4813268a-fc61-41ae-e09c-344f3ecc4764"
      },
      "execution_count": 1,
      "outputs": [
        {
          "output_type": "stream",
          "name": "stdout",
          "text": [
            "Rahul\n"
          ]
        }
      ]
    },
    {
      "cell_type": "code",
      "source": [
        "#Q2 Write a code to find the length of the string \"Hello World\"?\n",
        "string=\"Hello World\"\n",
        "print(len(string))"
      ],
      "metadata": {
        "colab": {
          "base_uri": "https://localhost:8080/"
        },
        "id": "PERTlt7tQb9_",
        "outputId": "6602b5e0-8a51-4fa7-d4e1-8a0749e89677"
      },
      "execution_count": 2,
      "outputs": [
        {
          "output_type": "stream",
          "name": "stdout",
          "text": [
            "11\n"
          ]
        }
      ]
    },
    {
      "cell_type": "code",
      "source": [
        "#Q3 Write a code to slice the first 3 characters from the string \"Python Programming\"?\n",
        "string=\"Python Programming\"\n",
        "print(string[0:3])"
      ],
      "metadata": {
        "colab": {
          "base_uri": "https://localhost:8080/"
        },
        "id": "x-trzrG7SQBm",
        "outputId": "39af5b26-8291-4c37-df96-9b287608454c"
      },
      "execution_count": 3,
      "outputs": [
        {
          "output_type": "stream",
          "name": "stdout",
          "text": [
            "Pyt\n"
          ]
        }
      ]
    },
    {
      "cell_type": "code",
      "source": [
        "#Q4 Write a code to convert the string \"hello\" to uppercase?\n",
        "string=\"hello\"\n",
        "print(string.upper())"
      ],
      "metadata": {
        "colab": {
          "base_uri": "https://localhost:8080/"
        },
        "id": "7x86sVXeSXrd",
        "outputId": "2ac100d7-5340-4ed9-e3ba-c716dfe4f9ea"
      },
      "execution_count": 4,
      "outputs": [
        {
          "output_type": "stream",
          "name": "stdout",
          "text": [
            "HELLO\n"
          ]
        }
      ]
    },
    {
      "cell_type": "code",
      "source": [
        "#Q5 Write a code to replace the word \"apple\" with \"orange\" in the string \"I like apple\"?\n",
        "string=\"I like apple\"\n",
        "print(string.replace(\"apple\",\"orange\"))"
      ],
      "metadata": {
        "colab": {
          "base_uri": "https://localhost:8080/"
        },
        "id": "Qk6fVZ2eSfjF",
        "outputId": "40376d4a-2be0-478b-87f8-d64848ea4d7c"
      },
      "execution_count": 5,
      "outputs": [
        {
          "output_type": "stream",
          "name": "stdout",
          "text": [
            "I like orange\n"
          ]
        }
      ]
    },
    {
      "cell_type": "code",
      "source": [
        "#Q6 Write a code to create a list with numbers 1 to 5 and print it?\n",
        "lst=[1,2,3,4,5]\n",
        "print(lst)"
      ],
      "metadata": {
        "colab": {
          "base_uri": "https://localhost:8080/"
        },
        "id": "3veY7yiiSnwG",
        "outputId": "5ddcc638-8761-4e7a-c420-f1d25f346a0d"
      },
      "execution_count": 6,
      "outputs": [
        {
          "output_type": "stream",
          "name": "stdout",
          "text": [
            "[1, 2, 3, 4, 5]\n"
          ]
        }
      ]
    },
    {
      "cell_type": "code",
      "source": [
        "#Q7 Write a code to append the number 10 to the list [1, 2, 3, 4]?\n",
        "lst=[1,2,3,4]\n",
        "lst.append(10)\n",
        "print(lst)"
      ],
      "metadata": {
        "colab": {
          "base_uri": "https://localhost:8080/"
        },
        "id": "TgRxZKSRStyi",
        "outputId": "8639ec54-4014-47de-9929-1ad2330d818f"
      },
      "execution_count": 7,
      "outputs": [
        {
          "output_type": "stream",
          "name": "stdout",
          "text": [
            "[1, 2, 3, 4, 10]\n"
          ]
        }
      ]
    },
    {
      "cell_type": "code",
      "source": [
        "#Q8 Write a code to remove the number 3 from the list [1, 2, 3, 4, 5]?\n",
        "lst=[1,2,3,4,5]\n",
        "lst.remove(3)\n",
        "print(lst)"
      ],
      "metadata": {
        "colab": {
          "base_uri": "https://localhost:8080/"
        },
        "id": "nbdvrg-IS1Me",
        "outputId": "8b5e164d-1328-4b87-8928-58a6103f6552"
      },
      "execution_count": 8,
      "outputs": [
        {
          "output_type": "stream",
          "name": "stdout",
          "text": [
            "[1, 2, 4, 5]\n"
          ]
        }
      ]
    },
    {
      "cell_type": "code",
      "source": [
        "#Q9 Write a code to access the second element in the list ['a', 'b', 'c', 'd']?\n",
        "lst=['a', 'b', 'c', 'd']\n",
        "print(lst[1])"
      ],
      "metadata": {
        "colab": {
          "base_uri": "https://localhost:8080/"
        },
        "id": "7qffqNQ6S6Ug",
        "outputId": "a4a1f43a-b85b-44fa-836b-523c52736624"
      },
      "execution_count": 9,
      "outputs": [
        {
          "output_type": "stream",
          "name": "stdout",
          "text": [
            "b\n"
          ]
        }
      ]
    },
    {
      "cell_type": "code",
      "source": [
        "#Q10 Write a code to reverse the list [10, 20, 30, 40, 50]?\n",
        "lst=[10, 20, 30, 40, 50]\n",
        "lst.reverse()\n",
        "print(lst)"
      ],
      "metadata": {
        "colab": {
          "base_uri": "https://localhost:8080/"
        },
        "id": "60Pvjnb_TBuR",
        "outputId": "9a90b4ab-7a0f-4e09-917b-a68b8ec4c18a"
      },
      "execution_count": 16,
      "outputs": [
        {
          "output_type": "stream",
          "name": "stdout",
          "text": [
            "[50, 40, 30, 20, 10]\n"
          ]
        }
      ]
    },
    {
      "cell_type": "code",
      "source": [
        "#Q11 Write a code to create a tuple with the elements 100, 200, 300 and print it?\n",
        "tpl=(100,200,300)\n",
        "print(tpl)"
      ],
      "metadata": {
        "colab": {
          "base_uri": "https://localhost:8080/"
        },
        "id": "NLB31uxETLn0",
        "outputId": "592644ea-cc28-4463-c44c-cfa8794eabef"
      },
      "execution_count": 17,
      "outputs": [
        {
          "output_type": "stream",
          "name": "stdout",
          "text": [
            "(100, 200, 300)\n"
          ]
        }
      ]
    },
    {
      "cell_type": "code",
      "source": [
        "#Q12  Write a code to access the second-to-last element of the tuple ('red', 'green', 'blue', 'yellow')\n",
        "tpl=('red', 'green', 'blue', 'yellow')\n",
        "print(tpl[-2])"
      ],
      "metadata": {
        "colab": {
          "base_uri": "https://localhost:8080/"
        },
        "id": "mU_lW3KrUB0J",
        "outputId": "979b48eb-8754-40c7-d06b-a3163ca99ecb"
      },
      "execution_count": 18,
      "outputs": [
        {
          "output_type": "stream",
          "name": "stdout",
          "text": [
            "blue\n"
          ]
        }
      ]
    },
    {
      "cell_type": "code",
      "source": [
        "#Q13 Write a code to find the minimum number in the tuple (10, 20, 5, 15).\n",
        "tpl=(10, 20, 5, 15)\n",
        "print(min(tpl))"
      ],
      "metadata": {
        "colab": {
          "base_uri": "https://localhost:8080/"
        },
        "id": "R-e-PJtwUIX8",
        "outputId": "a75677e8-b007-41c8-f713-7271fdc0b40a"
      },
      "execution_count": 19,
      "outputs": [
        {
          "output_type": "stream",
          "name": "stdout",
          "text": [
            "5\n"
          ]
        }
      ]
    },
    {
      "cell_type": "code",
      "source": [
        "#Q14  Write a code to find the index of the element \"cat\" in the tuple ('dog', 'cat', 'rabbit')\n",
        "tpl=('dog', 'cat', 'rabbit')\n",
        "print(tpl.index(\"cat\"))"
      ],
      "metadata": {
        "colab": {
          "base_uri": "https://localhost:8080/"
        },
        "id": "6eCRZSjNUPnc",
        "outputId": "b7a43a1c-f1fe-4f80-b5f7-6690bc3c0013"
      },
      "execution_count": 20,
      "outputs": [
        {
          "output_type": "stream",
          "name": "stdout",
          "text": [
            "1\n"
          ]
        }
      ]
    },
    {
      "cell_type": "code",
      "source": [
        "#Q15 Write a code to create a tuple containing three different fruits and check if \"kiwi\" is in it\n",
        "fruits=(\"Apple\",\"Banana\",\"Orange\",\"Kiwi\")\n",
        "print(\"Kiwi\" in fruits)"
      ],
      "metadata": {
        "colab": {
          "base_uri": "https://localhost:8080/"
        },
        "id": "L_eWmFpYUvdS",
        "outputId": "042b00fd-f95f-432f-de74-b168ada1425d"
      },
      "execution_count": 24,
      "outputs": [
        {
          "output_type": "stream",
          "name": "stdout",
          "text": [
            "True\n"
          ]
        }
      ]
    },
    {
      "cell_type": "code",
      "source": [
        "#Q16 Write a code to create a set with the elements 'a', 'b', 'c' and print it.\n",
        "set1={'a', 'b', 'c'}\n",
        "print(set1)"
      ],
      "metadata": {
        "colab": {
          "base_uri": "https://localhost:8080/"
        },
        "id": "VPRtLVAkVB9h",
        "outputId": "66e3e886-2692-47a9-bdfd-c6ecde83ceae"
      },
      "execution_count": 26,
      "outputs": [
        {
          "output_type": "stream",
          "name": "stdout",
          "text": [
            "{'b', 'c', 'a'}\n"
          ]
        }
      ]
    },
    {
      "cell_type": "code",
      "source": [
        "#Q17 Write a code to clear all elements from the set {1, 2, 3, 4, 5}.\n",
        "set1={1, 2, 3, 4, 5}\n",
        "set1.clear()\n",
        "print(set1)"
      ],
      "metadata": {
        "colab": {
          "base_uri": "https://localhost:8080/"
        },
        "id": "D-GtR-ioVA-D",
        "outputId": "9cb6cd29-d657-46a9-b7d8-d4d518dc9410"
      },
      "execution_count": 25,
      "outputs": [
        {
          "output_type": "stream",
          "name": "stdout",
          "text": [
            "set()\n"
          ]
        }
      ]
    },
    {
      "cell_type": "code",
      "source": [
        "#Q18 Write a code to remove the element 4 from the set {1, 2, 3, 4}.\n",
        "set1={1, 2, 3, 4}\n",
        "set1.remove(4)\n",
        "print(set1)"
      ],
      "metadata": {
        "colab": {
          "base_uri": "https://localhost:8080/"
        },
        "id": "Sodxy3ubVNeZ",
        "outputId": "2830e4cd-c384-4053-e97a-5d9b531d2796"
      },
      "execution_count": 27,
      "outputs": [
        {
          "output_type": "stream",
          "name": "stdout",
          "text": [
            "{1, 2, 3}\n"
          ]
        }
      ]
    },
    {
      "cell_type": "code",
      "source": [
        "#Q19 Write a code to find the union of two sets {1, 2, 3} and {3, 4, 5}.\n",
        "set1={1, 2, 3}\n",
        "set2={3, 4, 5}\n",
        "print(set1.union(set2))"
      ],
      "metadata": {
        "colab": {
          "base_uri": "https://localhost:8080/"
        },
        "id": "OuJk8x5yU-el",
        "outputId": "f7395ec3-bb44-4a9b-a7dd-8d5b97aa790f"
      },
      "execution_count": 29,
      "outputs": [
        {
          "output_type": "stream",
          "name": "stdout",
          "text": [
            "{1, 2, 3, 4, 5}\n"
          ]
        }
      ]
    },
    {
      "cell_type": "code",
      "source": [
        "#Q20 Write a code to find the intersection of two sets {1, 2, 3} and {2, 3, 4}.\n",
        "set1={1, 2, 3}\n",
        "set2={2, 3, 4}\n",
        "print(set1.intersection(set2))"
      ],
      "metadata": {
        "colab": {
          "base_uri": "https://localhost:8080/"
        },
        "id": "hIglidwYVabU",
        "outputId": "cb01372b-6dac-4601-b063-a387cfc1efee"
      },
      "execution_count": 31,
      "outputs": [
        {
          "output_type": "stream",
          "name": "stdout",
          "text": [
            "{2, 3}\n"
          ]
        }
      ]
    },
    {
      "cell_type": "code",
      "source": [
        "#Q21 Write a code to create a dictionary with the keys \"name\", \"age\", and \"city\", and print it.\n",
        "dict1={\"name\":\"Rahul\",\"age\":22,\"city\":\"Delhi\"}\n",
        "print(dict1)"
      ],
      "metadata": {
        "colab": {
          "base_uri": "https://localhost:8080/"
        },
        "id": "EFqbdh5AVgYb",
        "outputId": "f12c35a2-a433-44ad-8108-11ff1869cd51"
      },
      "execution_count": 33,
      "outputs": [
        {
          "output_type": "stream",
          "name": "stdout",
          "text": [
            "{'name': 'Rahul', 'age': 22, 'city': 'Delhi'}\n"
          ]
        }
      ]
    },
    {
      "cell_type": "code",
      "source": [
        "#Q22 Write a code to add a new key-value pair \"country\": \"USA\" to the dictionary {'name': 'John', 'age': 25}.\n",
        "dict2={'name': 'John', 'age': 25}\n",
        "dict2[\"country\"]=\"USA\"\n",
        "print(dict2)"
      ],
      "metadata": {
        "colab": {
          "base_uri": "https://localhost:8080/"
        },
        "id": "aGHhnMXcVlfA",
        "outputId": "428d0c66-02eb-421c-846c-05275d8e785e"
      },
      "execution_count": 35,
      "outputs": [
        {
          "output_type": "stream",
          "name": "stdout",
          "text": [
            "{'name': 'John', 'age': 25, 'country': 'USA'}\n"
          ]
        }
      ]
    },
    {
      "cell_type": "code",
      "source": [
        "#Q23 Write a code to access the value associated with the key \"name\" in the dictionary {'name': 'Alice', 'age': 30}.\n",
        "dict3={'name': 'Alice', 'age': 30}\n",
        "print(dict3[\"name\"])"
      ],
      "metadata": {
        "colab": {
          "base_uri": "https://localhost:8080/"
        },
        "id": "QZljSb4xVwae",
        "outputId": "274aff7e-a9ac-4cda-e732-a8279c3c1d1d"
      },
      "execution_count": 37,
      "outputs": [
        {
          "output_type": "stream",
          "name": "stdout",
          "text": [
            "Alice\n"
          ]
        }
      ]
    },
    {
      "cell_type": "code",
      "source": [
        "#Q24 Write a code to remove the key \"age\" from the dictionary {'name': 'Bob', 'age': 22, 'city': 'New York'}\n",
        "dict4={'name': 'Bob', 'age': 22, 'city': 'New York'}\n",
        "dict4.pop(\"age\")\n",
        "print(dict4)"
      ],
      "metadata": {
        "colab": {
          "base_uri": "https://localhost:8080/"
        },
        "id": "N3G3PjLHV5sg",
        "outputId": "f19ee592-228a-48dc-bdcd-44e53826f111"
      },
      "execution_count": 38,
      "outputs": [
        {
          "output_type": "stream",
          "name": "stdout",
          "text": [
            "{'name': 'Bob', 'city': 'New York'}\n"
          ]
        }
      ]
    },
    {
      "cell_type": "code",
      "source": [
        "#Q25 Write a code to check if the key \"city\" exists in the dictionary {'name': 'Alice', 'city': 'Paris'}.\n",
        "dict5={'name': 'Alice', 'city': 'Paris'}\n",
        "print(\"city\" in dict5)"
      ],
      "metadata": {
        "colab": {
          "base_uri": "https://localhost:8080/"
        },
        "id": "kA1Btf2BV_yM",
        "outputId": "4646b1f0-8492-4b3d-eb4b-984dcb857f7b"
      },
      "execution_count": 39,
      "outputs": [
        {
          "output_type": "stream",
          "name": "stdout",
          "text": [
            "True\n"
          ]
        }
      ]
    },
    {
      "cell_type": "code",
      "source": [
        "#Q26 Write a code to create a list, a tuple, and a dictionary, and print them all.\n",
        "lst=[1,2,3]\n",
        "print(lst)\n",
        "tpl=(1,2,3)\n",
        "print(tpl)\n",
        "dict1={\"Name\":\"Rahul\",\"Age\":22}\n",
        "print(dict1)"
      ],
      "metadata": {
        "colab": {
          "base_uri": "https://localhost:8080/"
        },
        "id": "JdvLt5qDWDWq",
        "outputId": "55d7b32d-22ba-4ae6-ff48-087dcfb8604e"
      },
      "execution_count": 41,
      "outputs": [
        {
          "output_type": "stream",
          "name": "stdout",
          "text": [
            "[1, 2, 3]\n",
            "(1, 2, 3)\n",
            "{'Name': 'Rahul', 'Age': 22}\n"
          ]
        }
      ]
    },
    {
      "cell_type": "code",
      "source": [
        "#Q27 Write a code to create a list of 5 random numbers between 1 and 100, sort it in ascending order, and print the result.(replaced)\n",
        "\n",
        "import random\n",
        "\n",
        "number=random.sample(range(1,100),5)\n",
        "number.sort()\n",
        "print(number)"
      ],
      "metadata": {
        "colab": {
          "base_uri": "https://localhost:8080/"
        },
        "id": "ocZpSsg9WOEp",
        "outputId": "48224723-4d3c-4cc8-b722-aeee0d349a59"
      },
      "execution_count": 42,
      "outputs": [
        {
          "output_type": "stream",
          "name": "stdout",
          "text": [
            "[51, 55, 72, 78, 82]\n"
          ]
        }
      ]
    },
    {
      "cell_type": "code",
      "source": [
        "#Q28 Write a code to create a list with strings and print the element at the third index.\n",
        "lst=[\"Apple\",\"Banana\",\"Orange\",\"Kiwi\"]\n",
        "print(lst[2])"
      ],
      "metadata": {
        "colab": {
          "base_uri": "https://localhost:8080/"
        },
        "id": "xBud4m9QW8WG",
        "outputId": "04e1a7cb-18b8-43c9-a62c-9b480c8f740d"
      },
      "execution_count": 43,
      "outputs": [
        {
          "output_type": "stream",
          "name": "stdout",
          "text": [
            "Orange\n"
          ]
        }
      ]
    },
    {
      "cell_type": "code",
      "source": [
        "#Q29 Write a code to combine two dictionaries into one and print the result\n",
        "dict1={\"Name\":\"Rahul\",\"Age\":22}\n",
        "dict2={\"City\":\"Delhi\",\"Country\":\"India\"}\n",
        "dict1.update(dict2)\n",
        "print(dict1)"
      ],
      "metadata": {
        "colab": {
          "base_uri": "https://localhost:8080/"
        },
        "id": "MGMgMPnGXI8F",
        "outputId": "66e75a17-1ef0-4502-bbeb-19bed166d391"
      },
      "execution_count": 44,
      "outputs": [
        {
          "output_type": "stream",
          "name": "stdout",
          "text": [
            "{'Name': 'Rahul', 'Age': 22, 'City': 'Delhi', 'Country': 'India'}\n"
          ]
        }
      ]
    },
    {
      "cell_type": "code",
      "source": [
        "#Q30 Write a code to convert a list of strings into a set\n",
        "lst=[\"Apple\",\"Banana\",\"Orange\",\"Kiwi\"]\n",
        "print(set(lst))"
      ],
      "metadata": {
        "colab": {
          "base_uri": "https://localhost:8080/"
        },
        "id": "WNFZzQ7eXPX9",
        "outputId": "ec206f3a-7835-42f1-808a-e7a062af699f"
      },
      "execution_count": 45,
      "outputs": [
        {
          "output_type": "stream",
          "name": "stdout",
          "text": [
            "{'Orange', 'Apple', 'Banana', 'Kiwi'}\n"
          ]
        }
      ]
    }
  ]
}